{
 "cells": [
  {
   "cell_type": "code",
   "execution_count": 1,
   "metadata": {},
   "outputs": [],
   "source": [
    "import os\n",
    "import numpy as np\n",
    "import cv2 \n",
    "from glob import glob\n",
    "import tensorflow as tf\n",
    "from sklearn.model_selection import train_test_split"
   ]
  },
  {
   "cell_type": "code",
   "execution_count": 2,
   "metadata": {},
   "outputs": [],
   "source": [
    "path_save_images = r'E:\\GitHub\\AutoDoc\\NN_2\\DataSetGenerator\\DataSet\\images'\n",
    "path_save_masks = r'E:\\GitHub\\AutoDoc\\NN_2\\DataSetGenerator\\DataSet\\masks'"
   ]
  },
  {
   "cell_type": "code",
   "execution_count": 3,
   "metadata": {},
   "outputs": [],
   "source": [
    "path_train = r'E:\\GitHub\\AutoDoc\\NN_2\\DataSetGenerator\\DataSet\\\\'"
   ]
  },
  {
   "cell_type": "code",
   "execution_count": 4,
   "metadata": {},
   "outputs": [],
   "source": [
    "def load_data():\n",
    "    images = sorted([os.path.join(path_save_images, path) for path in os.listdir(path_save_images)], key = lambda a: int(a.split('\\\\')[-1].split('_')[0]))\n",
    "    masks = sorted([os.path.join(path_save_masks, path) for path in os.listdir(path_save_masks)], key = lambda a: int(a.split('\\\\')[-1].split('_')[0]))\n",
    "\n",
    "    train_x,valid_x, test_x   = np.split(images, [int(.75*len(images)), int(.95*len(images))])\n",
    "    train_y,valid_y, test_y  = np.split(masks, [int(.75*len(masks)), int(.95*len(masks))])\n",
    "    \n",
    "    return (np.concatenate([train_x, test_x], axis=0), np.concatenate([train_y, test_y], axis=0)), (valid_x, valid_y)"
   ]
  },
  {
   "cell_type": "code",
   "execution_count": 5,
   "metadata": {},
   "outputs": [],
   "source": [
    "(train_x, train_y), (valid_x, valid_y) = load_data()"
   ]
  },
  {
   "cell_type": "code",
   "execution_count": 6,
   "metadata": {},
   "outputs": [],
   "source": [
    "def read_image(path):\n",
    "     path = path.decode()\n",
    "     x = cv2.imread(path, cv2.IMREAD_COLOR)\n",
    "     x = cv2.resize(x, (256, 256))\n",
    "     x = x/255.0\n",
    "     return x"
   ]
  },
  {
   "attachments": {},
   "cell_type": "markdown",
   "metadata": {},
   "source": []
  },
  {
   "cell_type": "code",
   "execution_count": 7,
   "metadata": {},
   "outputs": [],
   "source": [
    "def read_mask(path):\n",
    "     path = path.decode()\n",
    "     x = cv2.imread(path, cv2.IMREAD_GRAYSCALE)\n",
    "     x = cv2.resize(x, (256, 256))\n",
    "     x = x/255.0\n",
    "     x = np.expand_dims(x, axis=-1)\n",
    "     return x"
   ]
  },
  {
   "cell_type": "code",
   "execution_count": 8,
   "metadata": {},
   "outputs": [],
   "source": [
    "def tf_parse(x, y):\n",
    "    def _parse(x, y):\n",
    "        x = read_image(x)\n",
    "        y = read_mask(y)\n",
    "        return x, y\n",
    "\n",
    "    x, y = tf.numpy_function(_parse, [x, y], [tf.float64, tf.float64])\n",
    "    x.set_shape([256, 256, 3])\n",
    "    y.set_shape([256, 256, 1])\n",
    "    return x, y\n",
    "\n",
    "def tf_dataset(x, y, batch):\n",
    "    dataset = tf.data.Dataset.from_tensor_slices((x, y))\n",
    "    dataset.shuffle(buffer_size = batch)\n",
    "    dataset = dataset.map(tf_parse)\n",
    "    dataset = dataset.batch(batch)\n",
    "    \n",
    "    dataset = dataset.repeat()\n",
    "    return dataset"
   ]
  },
  {
   "cell_type": "code",
   "execution_count": 9,
   "metadata": {},
   "outputs": [],
   "source": [
    "import tensorflow as tf\n",
    "from tensorflow.keras.layers import *\n",
    "from tensorflow.keras.models import Model"
   ]
  },
  {
   "cell_type": "code",
   "execution_count": 10,
   "metadata": {},
   "outputs": [],
   "source": [
    "def conv_block(x, num_filters):\n",
    "    x = Conv2D(num_filters, (3, 3), padding=\"same\")(x)\n",
    "    x = BatchNormalization()(x)\n",
    "    x = Activation(\"relu\")(x)\n",
    "\n",
    "    x = Conv2D(num_filters, (3, 3), padding=\"same\")(x)\n",
    "    x = BatchNormalization()(x)\n",
    "    x = Activation(\"relu\")(x)\n",
    "\n",
    "    return x"
   ]
  },
  {
   "cell_type": "code",
   "execution_count": 22,
   "metadata": {},
   "outputs": [],
   "source": [
    "def build_model():\n",
    "    size = 256\n",
    "    num_filters = [16, 32, 48, 64]\n",
    "    inputs = Input((size, size, 3))\n",
    "\n",
    "    skip_x = []\n",
    "    x = inputs\n",
    "\n",
    "    ## Encoder\n",
    "    for f in num_filters:\n",
    "        x = conv_block(x, f)\n",
    "        skip_x.append(x)\n",
    "        x = MaxPool2D((2, 2))(x)\n",
    "\n",
    "    ## Bridge\n",
    "    x = conv_block(x, num_filters[-1])\n",
    "\n",
    "    num_filters.reverse()\n",
    "    skip_x.reverse()\n",
    "\n",
    "    ## Decoder\n",
    "    for i, f in enumerate(num_filters):\n",
    "        x = UpSampling2D((2, 2))(x)\n",
    "        xs = skip_x[i]\n",
    "        x = Concatenate()([x, xs])\n",
    "        x = conv_block(x, f)\n",
    "\n",
    "    ## Output\n",
    "    x = Conv2D(1, (1, 1), padding=\"same\")(x)\n",
    "    x = Activation(\"sigmoid\")(x)\n",
    "\n",
    "    return Model(inputs, x)"
   ]
  },
  {
   "cell_type": "code",
   "execution_count": 12,
   "metadata": {},
   "outputs": [],
   "source": [
    "import os\n",
    "import numpy as np\n",
    "import cv2\n",
    "from glob import glob\n",
    "import tensorflow as tf\n",
    "from tensorflow.keras.callbacks import EarlyStopping, ModelCheckpoint, ReduceLROnPlateau, CSVLogger, TensorBoard\n",
    "from concurrent.futures import ThreadPoolExecutor, wait, ALL_COMPLETED"
   ]
  },
  {
   "cell_type": "code",
   "execution_count": 13,
   "metadata": {},
   "outputs": [],
   "source": [
    "def iou(y_true, y_pred):\n",
    "     def f(y_true, y_pred):\n",
    "         intersection = (y_true * y_pred).sum()\n",
    "         union = y_true.sum() + y_pred.sum() - intersection\n",
    "         x = (intersection + 1e-15) / (union + 1e-15)\n",
    "         x = x.astype(np.float64)\n",
    "         return x\n",
    "     return tf.numpy_function(f, [y_true, y_pred], tf.float64)"
   ]
  },
  {
   "cell_type": "code",
   "execution_count": 23,
   "metadata": {},
   "outputs": [],
   "source": [
    "batch = 32\n",
    "lr = 1e-4\n",
    "epochs = 300"
   ]
  },
  {
   "cell_type": "code",
   "execution_count": 24,
   "metadata": {},
   "outputs": [],
   "source": [
    "train_dataset = tf_dataset(train_x, train_y, batch=batch)\n",
    "valid_dataset = tf_dataset(valid_x, valid_y, batch=batch)"
   ]
  },
  {
   "cell_type": "code",
   "execution_count": 25,
   "metadata": {},
   "outputs": [],
   "source": [
    "model = build_model()"
   ]
  },
  {
   "cell_type": "code",
   "execution_count": 26,
   "metadata": {},
   "outputs": [],
   "source": [
    "opt = tf.keras.optimizers.Adam(lr)               \n",
    "metrics = [\"acc\", iou]\n",
    "model.compile(loss=\"binary_crossentropy\", optimizer=opt, metrics=metrics)"
   ]
  },
  {
   "cell_type": "code",
   "execution_count": 27,
   "metadata": {},
   "outputs": [],
   "source": [
    "save_path = r'E:\\GitHub\\AutoDoc\\NN_2\\result_model'"
   ]
  },
  {
   "cell_type": "code",
   "execution_count": 28,
   "metadata": {},
   "outputs": [],
   "source": [
    "callbacks = [\n",
    "        ModelCheckpoint(os.path.join(save_path,\"model.h5\")),\n",
    "        ReduceLROnPlateau(monitor='val_loss', factor=0.1, patience=4),\n",
    "        CSVLogger(os.path.join(save_path,\"data_log.csv\")),\n",
    "        TensorBoard(),\n",
    "        EarlyStopping(monitor='val_loss', patience=20, restore_best_weights=True)\n",
    "    ]"
   ]
  },
  {
   "cell_type": "code",
   "execution_count": 29,
   "metadata": {},
   "outputs": [
    {
     "name": "stdout",
     "output_type": "stream",
     "text": [
      "78\n",
      "20\n"
     ]
    }
   ],
   "source": [
    "train_steps = len(train_x)//batch\n",
    "valid_steps = len(valid_x)//batch\n",
    "\n",
    "if len(train_x) % batch != 0:\n",
    "    train_steps += 1\n",
    "if len(valid_x) % batch != 0:\n",
    "  valid_steps += 1\n",
    "\n",
    "print(train_steps)\n",
    "print(valid_steps)"
   ]
  },
  {
   "cell_type": "code",
   "execution_count": 30,
   "metadata": {},
   "outputs": [
    {
     "name": "stdout",
     "output_type": "stream",
     "text": [
      "Epoch 1/300\n",
      "78/78 [==============================] - 24s 285ms/step - loss: 0.4208 - acc: 0.8221 - iou: 0.4984 - val_loss: 0.5941 - val_acc: 0.6641 - val_iou: 0.2368 - lr: 1.0000e-04\n",
      "Epoch 2/300\n",
      "78/78 [==============================] - 18s 224ms/step - loss: 0.2810 - acc: 0.8899 - iou: 0.6133 - val_loss: 0.5510 - val_acc: 0.6641 - val_iou: 0.2244 - lr: 1.0000e-04\n",
      "Epoch 3/300\n",
      "78/78 [==============================] - 19s 243ms/step - loss: 0.2366 - acc: 0.9078 - iou: 0.6511 - val_loss: 0.5396 - val_acc: 0.6668 - val_iou: 0.2065 - lr: 1.0000e-04\n",
      "Epoch 4/300\n",
      "78/78 [==============================] - 19s 241ms/step - loss: 0.2154 - acc: 0.9151 - iou: 0.6707 - val_loss: 0.3933 - val_acc: 0.8391 - val_iou: 0.3540 - lr: 1.0000e-04\n",
      "Epoch 5/300\n",
      "78/78 [==============================] - 20s 251ms/step - loss: 0.1963 - acc: 0.9235 - iou: 0.6889 - val_loss: 0.2271 - val_acc: 0.9224 - val_iou: 0.5696 - lr: 1.0000e-04\n",
      "Epoch 6/300\n",
      "78/78 [==============================] - 18s 224ms/step - loss: 0.1734 - acc: 0.9349 - iou: 0.7103 - val_loss: 0.1755 - val_acc: 0.9402 - val_iou: 0.6536 - lr: 1.0000e-04\n",
      "Epoch 7/300\n",
      "78/78 [==============================] - 17s 211ms/step - loss: 0.1561 - acc: 0.9429 - iou: 0.7289 - val_loss: 0.1566 - val_acc: 0.9483 - val_iou: 0.6791 - lr: 1.0000e-04\n",
      "Epoch 8/300\n",
      "78/78 [==============================] - 16s 209ms/step - loss: 0.1414 - acc: 0.9490 - iou: 0.7448 - val_loss: 0.1322 - val_acc: 0.9573 - val_iou: 0.7107 - lr: 1.0000e-04\n",
      "Epoch 9/300\n",
      "78/78 [==============================] - 16s 209ms/step - loss: 0.1297 - acc: 0.9531 - iou: 0.7593 - val_loss: 0.1141 - val_acc: 0.9643 - val_iou: 0.7323 - lr: 1.0000e-04\n",
      "Epoch 10/300\n",
      "78/78 [==============================] - 16s 202ms/step - loss: 0.1198 - acc: 0.9559 - iou: 0.7717 - val_loss: 0.1027 - val_acc: 0.9673 - val_iou: 0.7476 - lr: 1.0000e-04\n",
      "Epoch 11/300\n",
      "78/78 [==============================] - 16s 202ms/step - loss: 0.1113 - acc: 0.9580 - iou: 0.7828 - val_loss: 0.0962 - val_acc: 0.9680 - val_iou: 0.7573 - lr: 1.0000e-04\n",
      "Epoch 12/300\n",
      "78/78 [==============================] - 16s 203ms/step - loss: 0.1041 - acc: 0.9594 - iou: 0.7925 - val_loss: 0.0899 - val_acc: 0.9682 - val_iou: 0.7698 - lr: 1.0000e-04\n",
      "Epoch 13/300\n",
      "78/78 [==============================] - 17s 218ms/step - loss: 0.0983 - acc: 0.9603 - iou: 0.8010 - val_loss: 0.0828 - val_acc: 0.9687 - val_iou: 0.7839 - lr: 1.0000e-04\n",
      "Epoch 14/300\n",
      "78/78 [==============================] - 17s 215ms/step - loss: 0.0933 - acc: 0.9609 - iou: 0.8086 - val_loss: 0.0771 - val_acc: 0.9690 - val_iou: 0.7957 - lr: 1.0000e-04\n",
      "Epoch 15/300\n",
      "78/78 [==============================] - 17s 216ms/step - loss: 0.0887 - acc: 0.9615 - iou: 0.8158 - val_loss: 0.0731 - val_acc: 0.9688 - val_iou: 0.8048 - lr: 1.0000e-04\n",
      "Epoch 16/300\n",
      "78/78 [==============================] - 17s 220ms/step - loss: 0.0842 - acc: 0.9621 - iou: 0.8227 - val_loss: 0.0704 - val_acc: 0.9684 - val_iou: 0.8111 - lr: 1.0000e-04\n",
      "Epoch 17/300\n",
      "78/78 [==============================] - 18s 227ms/step - loss: 0.0799 - acc: 0.9626 - iou: 0.8294 - val_loss: 0.0672 - val_acc: 0.9685 - val_iou: 0.8181 - lr: 1.0000e-04\n",
      "Epoch 18/300\n",
      "78/78 [==============================] - 17s 216ms/step - loss: 0.0757 - acc: 0.9631 - iou: 0.8360 - val_loss: 0.0698 - val_acc: 0.9662 - val_iou: 0.8148 - lr: 1.0000e-04\n",
      "Epoch 19/300\n",
      "78/78 [==============================] - 17s 216ms/step - loss: 0.0721 - acc: 0.9634 - iou: 0.8421 - val_loss: 0.0879 - val_acc: 0.9571 - val_iou: 0.7864 - lr: 1.0000e-04\n",
      "Epoch 20/300\n",
      "78/78 [==============================] - 17s 217ms/step - loss: 0.0698 - acc: 0.9633 - iou: 0.8467 - val_loss: 0.0815 - val_acc: 0.9589 - val_iou: 0.8008 - lr: 1.0000e-04\n",
      "Epoch 21/300\n",
      "78/78 [==============================] - 17s 219ms/step - loss: 0.0677 - acc: 0.9631 - iou: 0.8509 - val_loss: 0.0572 - val_acc: 0.9683 - val_iou: 0.8455 - lr: 1.0000e-04\n",
      "Epoch 22/300\n",
      "78/78 [==============================] - 17s 218ms/step - loss: 0.0656 - acc: 0.9630 - iou: 0.8553 - val_loss: 0.1044 - val_acc: 0.9484 - val_iou: 0.7758 - lr: 1.0000e-04\n",
      "Epoch 23/300\n",
      "78/78 [==============================] - 17s 216ms/step - loss: 0.0619 - acc: 0.9638 - iou: 0.8613 - val_loss: 0.0764 - val_acc: 0.9589 - val_iou: 0.8171 - lr: 1.0000e-04\n",
      "Epoch 24/300\n",
      "78/78 [==============================] - 17s 216ms/step - loss: 0.0593 - acc: 0.9641 - iou: 0.8660 - val_loss: 0.0531 - val_acc: 0.9675 - val_iou: 0.8566 - lr: 1.0000e-04\n",
      "Epoch 25/300\n",
      "78/78 [==============================] - 17s 216ms/step - loss: 0.0571 - acc: 0.9641 - iou: 0.8701 - val_loss: 0.0651 - val_acc: 0.9620 - val_iou: 0.8394 - lr: 1.0000e-04\n",
      "Epoch 26/300\n",
      "78/78 [==============================] - 17s 217ms/step - loss: 0.0554 - acc: 0.9640 - iou: 0.8737 - val_loss: 0.3621 - val_acc: 0.8553 - val_iou: 0.5005 - lr: 1.0000e-04\n",
      "Epoch 27/300\n",
      "78/78 [==============================] - 17s 215ms/step - loss: 0.0554 - acc: 0.9635 - iou: 0.8758 - val_loss: 0.0609 - val_acc: 0.9617 - val_iou: 0.8528 - lr: 1.0000e-04\n",
      "Epoch 28/300\n",
      "78/78 [==============================] - 17s 221ms/step - loss: 0.0570 - acc: 0.9624 - iou: 0.8763 - val_loss: 0.0394 - val_acc: 0.9701 - val_iou: 0.8893 - lr: 1.0000e-04\n",
      "Epoch 29/300\n",
      "78/78 [==============================] - 17s 217ms/step - loss: 0.0511 - acc: 0.9640 - iou: 0.8833 - val_loss: 0.0420 - val_acc: 0.9687 - val_iou: 0.8866 - lr: 1.0000e-04\n",
      "Epoch 30/300\n",
      "78/78 [==============================] - 17s 216ms/step - loss: 0.0481 - acc: 0.9647 - iou: 0.8882 - val_loss: 0.0369 - val_acc: 0.9700 - val_iou: 0.8958 - lr: 1.0000e-04\n",
      "Epoch 31/300\n",
      "78/78 [==============================] - 17s 216ms/step - loss: 0.0460 - acc: 0.9649 - iou: 0.8919 - val_loss: 0.0469 - val_acc: 0.9662 - val_iou: 0.8816 - lr: 1.0000e-04\n",
      "Epoch 32/300\n",
      "78/78 [==============================] - 17s 216ms/step - loss: 0.0448 - acc: 0.9649 - iou: 0.8950 - val_loss: 0.0374 - val_acc: 0.9692 - val_iou: 0.8987 - lr: 1.0000e-04\n",
      "Epoch 33/300\n",
      "78/78 [==============================] - 17s 216ms/step - loss: 0.0423 - acc: 0.9653 - iou: 0.8991 - val_loss: 0.0447 - val_acc: 0.9663 - val_iou: 0.8869 - lr: 1.0000e-04\n",
      "Epoch 34/300\n",
      "78/78 [==============================] - 17s 221ms/step - loss: 0.0410 - acc: 0.9654 - iou: 0.9021 - val_loss: 0.0403 - val_acc: 0.9674 - val_iou: 0.8978 - lr: 1.0000e-04\n",
      "Epoch 35/300\n",
      "78/78 [==============================] - 17s 215ms/step - loss: 0.0444 - acc: 0.9642 - iou: 0.8992 - val_loss: 0.0387 - val_acc: 0.9681 - val_iou: 0.9009 - lr: 1.0000e-05\n",
      "Epoch 36/300\n",
      "78/78 [==============================] - 17s 217ms/step - loss: 0.0404 - acc: 0.9653 - iou: 0.9035 - val_loss: 0.0391 - val_acc: 0.9679 - val_iou: 0.9004 - lr: 1.0000e-05\n",
      "Epoch 37/300\n",
      "78/78 [==============================] - 17s 215ms/step - loss: 0.0396 - acc: 0.9655 - iou: 0.9045 - val_loss: 0.0396 - val_acc: 0.9677 - val_iou: 0.9003 - lr: 1.0000e-05\n",
      "Epoch 38/300\n",
      "78/78 [==============================] - 17s 215ms/step - loss: 0.0391 - acc: 0.9656 - iou: 0.9052 - val_loss: 0.0403 - val_acc: 0.9675 - val_iou: 0.8996 - lr: 1.0000e-05\n",
      "Epoch 39/300\n",
      "78/78 [==============================] - 17s 215ms/step - loss: 0.0387 - acc: 0.9657 - iou: 0.9058 - val_loss: 0.0401 - val_acc: 0.9675 - val_iou: 0.9003 - lr: 1.0000e-06\n",
      "Epoch 40/300\n",
      "78/78 [==============================] - 17s 216ms/step - loss: 0.0386 - acc: 0.9657 - iou: 0.9058 - val_loss: 0.0400 - val_acc: 0.9675 - val_iou: 0.9005 - lr: 1.0000e-06\n",
      "Epoch 41/300\n",
      "78/78 [==============================] - 17s 216ms/step - loss: 0.0386 - acc: 0.9657 - iou: 0.9059 - val_loss: 0.0400 - val_acc: 0.9675 - val_iou: 0.9007 - lr: 1.0000e-06\n",
      "Epoch 42/300\n",
      "78/78 [==============================] - 17s 220ms/step - loss: 0.0385 - acc: 0.9657 - iou: 0.9059 - val_loss: 0.0400 - val_acc: 0.9675 - val_iou: 0.9007 - lr: 1.0000e-06\n",
      "Epoch 43/300\n",
      "78/78 [==============================] - 17s 217ms/step - loss: 0.0385 - acc: 0.9657 - iou: 0.9060 - val_loss: 0.0400 - val_acc: 0.9675 - val_iou: 0.9007 - lr: 1.0000e-07\n",
      "Epoch 44/300\n",
      "78/78 [==============================] - 17s 220ms/step - loss: 0.0385 - acc: 0.9657 - iou: 0.9060 - val_loss: 0.0400 - val_acc: 0.9674 - val_iou: 0.9007 - lr: 1.0000e-07\n",
      "Epoch 45/300\n",
      "78/78 [==============================] - 17s 215ms/step - loss: 0.0385 - acc: 0.9657 - iou: 0.9060 - val_loss: 0.0400 - val_acc: 0.9674 - val_iou: 0.9007 - lr: 1.0000e-07\n",
      "Epoch 46/300\n",
      "78/78 [==============================] - 17s 215ms/step - loss: 0.0385 - acc: 0.9657 - iou: 0.9060 - val_loss: 0.0400 - val_acc: 0.9674 - val_iou: 0.9007 - lr: 1.0000e-07\n",
      "Epoch 47/300\n",
      "44/78 [===============>..............] - ETA: 6s - loss: 0.0335 - acc: 0.9636 - iou: 0.9392"
     ]
    },
    {
     "ename": "KeyboardInterrupt",
     "evalue": "",
     "output_type": "error",
     "traceback": [
      "\u001b[1;31m---------------------------------------------------------------------------\u001b[0m",
      "\u001b[1;31mKeyboardInterrupt\u001b[0m                         Traceback (most recent call last)",
      "\u001b[1;32me:\\GitHub\\AutoDoc\\NN_2\\NN_train.ipynb Cell 21\u001b[0m in \u001b[0;36m<cell line: 1>\u001b[1;34m()\u001b[0m\n\u001b[1;32m----> <a href='vscode-notebook-cell:/e%3A/GitHub/AutoDoc/NN_2/NN_train.ipynb#X26sZmlsZQ%3D%3D?line=0'>1</a>\u001b[0m model\u001b[39m.\u001b[39;49mfit(train_dataset,\n\u001b[0;32m      <a href='vscode-notebook-cell:/e%3A/GitHub/AutoDoc/NN_2/NN_train.ipynb#X26sZmlsZQ%3D%3D?line=1'>2</a>\u001b[0m         validation_data\u001b[39m=\u001b[39;49mvalid_dataset,\n\u001b[0;32m      <a href='vscode-notebook-cell:/e%3A/GitHub/AutoDoc/NN_2/NN_train.ipynb#X26sZmlsZQ%3D%3D?line=2'>3</a>\u001b[0m         epochs\u001b[39m=\u001b[39;49mepochs,\n\u001b[0;32m      <a href='vscode-notebook-cell:/e%3A/GitHub/AutoDoc/NN_2/NN_train.ipynb#X26sZmlsZQ%3D%3D?line=3'>4</a>\u001b[0m         steps_per_epoch \u001b[39m=\u001b[39;49m train_steps,\n\u001b[0;32m      <a href='vscode-notebook-cell:/e%3A/GitHub/AutoDoc/NN_2/NN_train.ipynb#X26sZmlsZQ%3D%3D?line=4'>5</a>\u001b[0m         validation_steps \u001b[39m=\u001b[39;49m valid_steps,\n\u001b[0;32m      <a href='vscode-notebook-cell:/e%3A/GitHub/AutoDoc/NN_2/NN_train.ipynb#X26sZmlsZQ%3D%3D?line=5'>6</a>\u001b[0m         callbacks\u001b[39m=\u001b[39;49mcallbacks)\n",
      "File \u001b[1;32mc:\\Users\\gongn\\miniconda3\\envs\\tensorflow\\lib\\site-packages\\keras\\utils\\traceback_utils.py:64\u001b[0m, in \u001b[0;36mfilter_traceback.<locals>.error_handler\u001b[1;34m(*args, **kwargs)\u001b[0m\n\u001b[0;32m     62\u001b[0m filtered_tb \u001b[39m=\u001b[39m \u001b[39mNone\u001b[39;00m\n\u001b[0;32m     63\u001b[0m \u001b[39mtry\u001b[39;00m:\n\u001b[1;32m---> 64\u001b[0m   \u001b[39mreturn\u001b[39;00m fn(\u001b[39m*\u001b[39margs, \u001b[39m*\u001b[39m\u001b[39m*\u001b[39mkwargs)\n\u001b[0;32m     65\u001b[0m \u001b[39mexcept\u001b[39;00m \u001b[39mException\u001b[39;00m \u001b[39mas\u001b[39;00m e:  \u001b[39m# pylint: disable=broad-except\u001b[39;00m\n\u001b[0;32m     66\u001b[0m   filtered_tb \u001b[39m=\u001b[39m _process_traceback_frames(e\u001b[39m.\u001b[39m__traceback__)\n",
      "File \u001b[1;32mc:\\Users\\gongn\\miniconda3\\envs\\tensorflow\\lib\\site-packages\\keras\\engine\\training.py:1409\u001b[0m, in \u001b[0;36mModel.fit\u001b[1;34m(self, x, y, batch_size, epochs, verbose, callbacks, validation_split, validation_data, shuffle, class_weight, sample_weight, initial_epoch, steps_per_epoch, validation_steps, validation_batch_size, validation_freq, max_queue_size, workers, use_multiprocessing)\u001b[0m\n\u001b[0;32m   1402\u001b[0m \u001b[39mwith\u001b[39;00m tf\u001b[39m.\u001b[39mprofiler\u001b[39m.\u001b[39mexperimental\u001b[39m.\u001b[39mTrace(\n\u001b[0;32m   1403\u001b[0m     \u001b[39m'\u001b[39m\u001b[39mtrain\u001b[39m\u001b[39m'\u001b[39m,\n\u001b[0;32m   1404\u001b[0m     epoch_num\u001b[39m=\u001b[39mepoch,\n\u001b[0;32m   1405\u001b[0m     step_num\u001b[39m=\u001b[39mstep,\n\u001b[0;32m   1406\u001b[0m     batch_size\u001b[39m=\u001b[39mbatch_size,\n\u001b[0;32m   1407\u001b[0m     _r\u001b[39m=\u001b[39m\u001b[39m1\u001b[39m):\n\u001b[0;32m   1408\u001b[0m   callbacks\u001b[39m.\u001b[39mon_train_batch_begin(step)\n\u001b[1;32m-> 1409\u001b[0m   tmp_logs \u001b[39m=\u001b[39m \u001b[39mself\u001b[39;49m\u001b[39m.\u001b[39;49mtrain_function(iterator)\n\u001b[0;32m   1410\u001b[0m   \u001b[39mif\u001b[39;00m data_handler\u001b[39m.\u001b[39mshould_sync:\n\u001b[0;32m   1411\u001b[0m     context\u001b[39m.\u001b[39masync_wait()\n",
      "File \u001b[1;32mc:\\Users\\gongn\\miniconda3\\envs\\tensorflow\\lib\\site-packages\\tensorflow\\python\\util\\traceback_utils.py:150\u001b[0m, in \u001b[0;36mfilter_traceback.<locals>.error_handler\u001b[1;34m(*args, **kwargs)\u001b[0m\n\u001b[0;32m    148\u001b[0m filtered_tb \u001b[39m=\u001b[39m \u001b[39mNone\u001b[39;00m\n\u001b[0;32m    149\u001b[0m \u001b[39mtry\u001b[39;00m:\n\u001b[1;32m--> 150\u001b[0m   \u001b[39mreturn\u001b[39;00m fn(\u001b[39m*\u001b[39margs, \u001b[39m*\u001b[39m\u001b[39m*\u001b[39mkwargs)\n\u001b[0;32m    151\u001b[0m \u001b[39mexcept\u001b[39;00m \u001b[39mException\u001b[39;00m \u001b[39mas\u001b[39;00m e:\n\u001b[0;32m    152\u001b[0m   filtered_tb \u001b[39m=\u001b[39m _process_traceback_frames(e\u001b[39m.\u001b[39m__traceback__)\n",
      "File \u001b[1;32mc:\\Users\\gongn\\miniconda3\\envs\\tensorflow\\lib\\site-packages\\tensorflow\\python\\eager\\def_function.py:915\u001b[0m, in \u001b[0;36mFunction.__call__\u001b[1;34m(self, *args, **kwds)\u001b[0m\n\u001b[0;32m    912\u001b[0m compiler \u001b[39m=\u001b[39m \u001b[39m\"\u001b[39m\u001b[39mxla\u001b[39m\u001b[39m\"\u001b[39m \u001b[39mif\u001b[39;00m \u001b[39mself\u001b[39m\u001b[39m.\u001b[39m_jit_compile \u001b[39melse\u001b[39;00m \u001b[39m\"\u001b[39m\u001b[39mnonXla\u001b[39m\u001b[39m\"\u001b[39m\n\u001b[0;32m    914\u001b[0m \u001b[39mwith\u001b[39;00m OptionalXlaContext(\u001b[39mself\u001b[39m\u001b[39m.\u001b[39m_jit_compile):\n\u001b[1;32m--> 915\u001b[0m   result \u001b[39m=\u001b[39m \u001b[39mself\u001b[39m\u001b[39m.\u001b[39m_call(\u001b[39m*\u001b[39margs, \u001b[39m*\u001b[39m\u001b[39m*\u001b[39mkwds)\n\u001b[0;32m    917\u001b[0m new_tracing_count \u001b[39m=\u001b[39m \u001b[39mself\u001b[39m\u001b[39m.\u001b[39mexperimental_get_tracing_count()\n\u001b[0;32m    918\u001b[0m without_tracing \u001b[39m=\u001b[39m (tracing_count \u001b[39m==\u001b[39m new_tracing_count)\n",
      "File \u001b[1;32mc:\\Users\\gongn\\miniconda3\\envs\\tensorflow\\lib\\site-packages\\tensorflow\\python\\eager\\def_function.py:947\u001b[0m, in \u001b[0;36mFunction._call\u001b[1;34m(self, *args, **kwds)\u001b[0m\n\u001b[0;32m    944\u001b[0m   \u001b[39mself\u001b[39m\u001b[39m.\u001b[39m_lock\u001b[39m.\u001b[39mrelease()\n\u001b[0;32m    945\u001b[0m   \u001b[39m# In this case we have created variables on the first call, so we run the\u001b[39;00m\n\u001b[0;32m    946\u001b[0m   \u001b[39m# defunned version which is guaranteed to never create variables.\u001b[39;00m\n\u001b[1;32m--> 947\u001b[0m   \u001b[39mreturn\u001b[39;00m \u001b[39mself\u001b[39m\u001b[39m.\u001b[39m_stateless_fn(\u001b[39m*\u001b[39margs, \u001b[39m*\u001b[39m\u001b[39m*\u001b[39mkwds)  \u001b[39m# pylint: disable=not-callable\u001b[39;00m\n\u001b[0;32m    948\u001b[0m \u001b[39melif\u001b[39;00m \u001b[39mself\u001b[39m\u001b[39m.\u001b[39m_stateful_fn \u001b[39mis\u001b[39;00m \u001b[39mnot\u001b[39;00m \u001b[39mNone\u001b[39;00m:\n\u001b[0;32m    949\u001b[0m   \u001b[39m# Release the lock early so that multiple threads can perform the call\u001b[39;00m\n\u001b[0;32m    950\u001b[0m   \u001b[39m# in parallel.\u001b[39;00m\n\u001b[0;32m    951\u001b[0m   \u001b[39mself\u001b[39m\u001b[39m.\u001b[39m_lock\u001b[39m.\u001b[39mrelease()\n",
      "File \u001b[1;32mc:\\Users\\gongn\\miniconda3\\envs\\tensorflow\\lib\\site-packages\\tensorflow\\python\\eager\\function.py:2496\u001b[0m, in \u001b[0;36mFunction.__call__\u001b[1;34m(self, *args, **kwargs)\u001b[0m\n\u001b[0;32m   2493\u001b[0m \u001b[39mwith\u001b[39;00m \u001b[39mself\u001b[39m\u001b[39m.\u001b[39m_lock:\n\u001b[0;32m   2494\u001b[0m   (graph_function,\n\u001b[0;32m   2495\u001b[0m    filtered_flat_args) \u001b[39m=\u001b[39m \u001b[39mself\u001b[39m\u001b[39m.\u001b[39m_maybe_define_function(args, kwargs)\n\u001b[1;32m-> 2496\u001b[0m \u001b[39mreturn\u001b[39;00m graph_function\u001b[39m.\u001b[39;49m_call_flat(\n\u001b[0;32m   2497\u001b[0m     filtered_flat_args, captured_inputs\u001b[39m=\u001b[39;49mgraph_function\u001b[39m.\u001b[39;49mcaptured_inputs)\n",
      "File \u001b[1;32mc:\\Users\\gongn\\miniconda3\\envs\\tensorflow\\lib\\site-packages\\tensorflow\\python\\eager\\function.py:1862\u001b[0m, in \u001b[0;36mConcreteFunction._call_flat\u001b[1;34m(self, args, captured_inputs, cancellation_manager)\u001b[0m\n\u001b[0;32m   1858\u001b[0m possible_gradient_type \u001b[39m=\u001b[39m gradients_util\u001b[39m.\u001b[39mPossibleTapeGradientTypes(args)\n\u001b[0;32m   1859\u001b[0m \u001b[39mif\u001b[39;00m (possible_gradient_type \u001b[39m==\u001b[39m gradients_util\u001b[39m.\u001b[39mPOSSIBLE_GRADIENT_TYPES_NONE\n\u001b[0;32m   1860\u001b[0m     \u001b[39mand\u001b[39;00m executing_eagerly):\n\u001b[0;32m   1861\u001b[0m   \u001b[39m# No tape is watching; skip to running the function.\u001b[39;00m\n\u001b[1;32m-> 1862\u001b[0m   \u001b[39mreturn\u001b[39;00m \u001b[39mself\u001b[39m\u001b[39m.\u001b[39m_build_call_outputs(\u001b[39mself\u001b[39;49m\u001b[39m.\u001b[39;49m_inference_function\u001b[39m.\u001b[39;49mcall(\n\u001b[0;32m   1863\u001b[0m       ctx, args, cancellation_manager\u001b[39m=\u001b[39;49mcancellation_manager))\n\u001b[0;32m   1864\u001b[0m forward_backward \u001b[39m=\u001b[39m \u001b[39mself\u001b[39m\u001b[39m.\u001b[39m_select_forward_and_backward_functions(\n\u001b[0;32m   1865\u001b[0m     args,\n\u001b[0;32m   1866\u001b[0m     possible_gradient_type,\n\u001b[0;32m   1867\u001b[0m     executing_eagerly)\n\u001b[0;32m   1868\u001b[0m forward_function, args_with_tangents \u001b[39m=\u001b[39m forward_backward\u001b[39m.\u001b[39mforward()\n",
      "File \u001b[1;32mc:\\Users\\gongn\\miniconda3\\envs\\tensorflow\\lib\\site-packages\\tensorflow\\python\\eager\\function.py:499\u001b[0m, in \u001b[0;36m_EagerDefinedFunction.call\u001b[1;34m(self, ctx, args, cancellation_manager)\u001b[0m\n\u001b[0;32m    497\u001b[0m \u001b[39mwith\u001b[39;00m _InterpolateFunctionError(\u001b[39mself\u001b[39m):\n\u001b[0;32m    498\u001b[0m   \u001b[39mif\u001b[39;00m cancellation_manager \u001b[39mis\u001b[39;00m \u001b[39mNone\u001b[39;00m:\n\u001b[1;32m--> 499\u001b[0m     outputs \u001b[39m=\u001b[39m execute\u001b[39m.\u001b[39;49mexecute(\n\u001b[0;32m    500\u001b[0m         \u001b[39mstr\u001b[39;49m(\u001b[39mself\u001b[39;49m\u001b[39m.\u001b[39;49msignature\u001b[39m.\u001b[39;49mname),\n\u001b[0;32m    501\u001b[0m         num_outputs\u001b[39m=\u001b[39;49m\u001b[39mself\u001b[39;49m\u001b[39m.\u001b[39;49m_num_outputs,\n\u001b[0;32m    502\u001b[0m         inputs\u001b[39m=\u001b[39;49margs,\n\u001b[0;32m    503\u001b[0m         attrs\u001b[39m=\u001b[39;49mattrs,\n\u001b[0;32m    504\u001b[0m         ctx\u001b[39m=\u001b[39;49mctx)\n\u001b[0;32m    505\u001b[0m   \u001b[39melse\u001b[39;00m:\n\u001b[0;32m    506\u001b[0m     outputs \u001b[39m=\u001b[39m execute\u001b[39m.\u001b[39mexecute_with_cancellation(\n\u001b[0;32m    507\u001b[0m         \u001b[39mstr\u001b[39m(\u001b[39mself\u001b[39m\u001b[39m.\u001b[39msignature\u001b[39m.\u001b[39mname),\n\u001b[0;32m    508\u001b[0m         num_outputs\u001b[39m=\u001b[39m\u001b[39mself\u001b[39m\u001b[39m.\u001b[39m_num_outputs,\n\u001b[1;32m   (...)\u001b[0m\n\u001b[0;32m    511\u001b[0m         ctx\u001b[39m=\u001b[39mctx,\n\u001b[0;32m    512\u001b[0m         cancellation_manager\u001b[39m=\u001b[39mcancellation_manager)\n",
      "File \u001b[1;32mc:\\Users\\gongn\\miniconda3\\envs\\tensorflow\\lib\\site-packages\\tensorflow\\python\\eager\\execute.py:54\u001b[0m, in \u001b[0;36mquick_execute\u001b[1;34m(op_name, num_outputs, inputs, attrs, ctx, name)\u001b[0m\n\u001b[0;32m     52\u001b[0m \u001b[39mtry\u001b[39;00m:\n\u001b[0;32m     53\u001b[0m   ctx\u001b[39m.\u001b[39mensure_initialized()\n\u001b[1;32m---> 54\u001b[0m   tensors \u001b[39m=\u001b[39m pywrap_tfe\u001b[39m.\u001b[39;49mTFE_Py_Execute(ctx\u001b[39m.\u001b[39;49m_handle, device_name, op_name,\n\u001b[0;32m     55\u001b[0m                                       inputs, attrs, num_outputs)\n\u001b[0;32m     56\u001b[0m \u001b[39mexcept\u001b[39;00m core\u001b[39m.\u001b[39m_NotOkStatusException \u001b[39mas\u001b[39;00m e:\n\u001b[0;32m     57\u001b[0m   \u001b[39mif\u001b[39;00m name \u001b[39mis\u001b[39;00m \u001b[39mnot\u001b[39;00m \u001b[39mNone\u001b[39;00m:\n",
      "\u001b[1;31mKeyboardInterrupt\u001b[0m: "
     ]
    }
   ],
   "source": [
    "model.fit(train_dataset,\n",
    "        validation_data=valid_dataset,\n",
    "        epochs=epochs,\n",
    "        steps_per_epoch = train_steps,\n",
    "        validation_steps = valid_steps,\n",
    "        callbacks=callbacks)"
   ]
  }
 ],
 "metadata": {
  "kernelspec": {
   "display_name": "tensorflow",
   "language": "python",
   "name": "python3"
  },
  "language_info": {
   "codemirror_mode": {
    "name": "ipython",
    "version": 3
   },
   "file_extension": ".py",
   "mimetype": "text/x-python",
   "name": "python",
   "nbconvert_exporter": "python",
   "pygments_lexer": "ipython3",
   "version": "3.9.13"
  },
  "orig_nbformat": 4
 },
 "nbformat": 4,
 "nbformat_minor": 2
}
